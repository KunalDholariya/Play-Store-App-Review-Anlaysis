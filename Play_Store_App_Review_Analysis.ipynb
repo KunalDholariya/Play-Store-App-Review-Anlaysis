{
  "nbformat": 4,
  "nbformat_minor": 0,
  "metadata": {
    "colab": {
      "private_outputs": true,
      "provenance": [],
      "collapsed_sections": [
        "OH-pJp9IphqM",
        "bbFf2-_FphqN",
        "_ouA3fa0phqN",
        "Seke61FWphqN",
        "PIIx-8_IphqN",
        "t27r6nlMphqO",
        "r2jJGEOYphqO",
        "b0JNsNcRphqO",
        "BZR9WyysphqO",
        "jj7wYXLtphqO",
        "eZrbJ2SmphqO",
        "rFu4xreNphqO",
        "YJ55k-q6phqO",
        "gCFgpxoyphqP",
        "OVtJsKN_phqQ",
        "lssrdh5qphqQ",
        "U2RJ9gkRphqQ",
        "1M8mcRywphqQ",
        "tgIPom80phqQ",
        "JMzcOPDDphqR",
        "x-EpHcCOp1ci",
        "X_VqEhTip1ck",
        "8zGJKyg5p1ck",
        "PVzmfK_Ep1ck",
        "n3dbpmDWp1ck",
        "ylSl6qgtp1ck",
        "ZWILFDl5p1ck",
        "M7G43BXep1ck",
        "Ag9LCva-p1cl",
        "E6MkPsBcp1cl",
        "2cELzS2fp1cl",
        "3MPXvC8up1cl",
        "NC_X3p0fY2L0",
        "UV0SzAkaZNRQ",
        "YPEH6qLeZNRQ",
        "q29F0dvdveiT",
        "EXh0U9oCveiU",
        "22aHeOlLveiV",
        "gIfDvo9L0UH2"
      ],
      "include_colab_link": true
    },
    "kernelspec": {
      "name": "python3",
      "display_name": "Python 3"
    },
    "language_info": {
      "name": "python"
    }
  },
  "cells": [
    {
      "cell_type": "markdown",
      "metadata": {
        "id": "view-in-github",
        "colab_type": "text"
      },
      "source": [
        "<a href=\"https://colab.research.google.com/github/KunalDholariya/Play-Store-App-Review-Anlaysis/blob/main/Play_Store_App_Review_Analysis.ipynb\" target=\"_parent\"><img src=\"https://colab.research.google.com/assets/colab-badge.svg\" alt=\"Open In Colab\"/></a>"
      ]
    },
    {
      "cell_type": "markdown",
      "source": [
        "\n",
        "# **Project Name**    -  Play Store App Review Analysis\n",
        "\n",
        "\n"
      ],
      "metadata": {
        "id": "vncDsAP0Gaoa"
      }
    },
    {
      "cell_type": "markdown",
      "source": [
        "##### **Project Type**    - EDA\n",
        "##### **Contribution**    - Individual\n"
      ],
      "metadata": {
        "id": "beRrZCGUAJYm"
      }
    },
    {
      "cell_type": "markdown",
      "source": [
        "# **Project Summary -**\n",
        "I decided to take up this project because i thought it was too easy. But, when i saw this project i didn't understand.I tried to understand the project step by step. Then I understood the project so it made sense for me. So, I gained some confidence. After that I started working on this project, first i saw the csv file and then understood it. I made some functions which i use in my notebook as well. In this project I explained about:- Apps names,Types of apps, most used apps, data cleaning, App categories, Rating analysis, Size and price of the app, App Reviews, Popularity of paid apps vs free apps, Install apps , Genres. Play Store is also known as Google Play. It gives us a official app store. It's running on the android operating system. Google play has offering games, music, books, movies, and television programs. The analysis of the Google Play Store app reviews provides several insights that can help businesses improve their app performance and user engagement.\n",
        "\n",
        "Some key insights include:\n",
        "\n",
        "The most common complaints in app reviews are related to app crashes, bugs, and slow performance. Responding to app reviews can improve user satisfaction and increase app ratings. Users tend to rate apps more positively when they feel their feedback is being heard and addressed by developers. The majority of app reviews on the Google Play Store are positive, suggesting that users generally have a positive experience with the apps they download. These insights can help businesses prioritize their efforts to address common issues reported in app reviews, and to actively engage with users to improve their satisfaction with the app. Additionally, businesses can use positive reviews as a way to promote their app and attract new users.\n",
        "\n",
        "Overall, the analysis of app reviews on the Google Play Store provides valuable insights that can inform businesses' app development and marketing strategies, and ultimately lead to increased user satisfaction and engagement.The analysis of the Google Play Store app reviews provides several insights that can help businesses improve their app performance and user engagement.\n",
        "\n",
        "Some key insights include:\n",
        "\n",
        "The most common complaints in app reviews are related to app crashes, bugs, and slow performance. Responding to app reviews can improve user satisfaction and increase app ratings. Users tend to rate apps more positively when they feel their feedback is being heard and addressed by developers. The majority of app reviews on the Google Play Store are positive, suggesting that users generally have a positive experience with the apps they download. These insights can help businesses prioritize their efforts to address common issues reported in app reviews, and to actively engage with users to improve their satisfaction with the app. Additionally, businesses can use positive reviews as a way to promote their app and attract new users.\n",
        "\n",
        "Overall, the analysis of app reviews on the Google Play Store provides valuable insights that can inform businesses' app development and marketing strategies, and ultimately lead to increased user satisfaction and engagement."
      ],
      "metadata": {
        "id": "FJNUwmbgGyua"
      }
    },
    {
      "cell_type": "markdown",
      "source": [
        "Write the summary here within 500-600 words."
      ],
      "metadata": {
        "id": "F6v_1wHtG2nS"
      }
    },
    {
      "cell_type": "markdown",
      "source": [
        "# **GitHub Link -**"
      ],
      "metadata": {
        "id": "w6K7xa23Elo4"
      }
    },
    {
      "cell_type": "markdown",
      "source": [
        "\n",
        "https://github.com/KunalDholariya/Play-Store-App-Review-Anlaysis"
      ],
      "metadata": {
        "id": "h1o69JH3Eqqn"
      }
    },
    {
      "cell_type": "markdown",
      "source": [
        "# **Problem Statement**\n"
      ],
      "metadata": {
        "id": "yQaldy8SH6Dl"
      }
    },
    {
      "cell_type": "markdown",
      "source": [
        "The business objective in the analysis of Google Play Store app reviews is to improve the performance and user engagement of the app, which can ultimately lead to increased user satisfaction and retention. By identifying common issues reported in app reviews and addressing them promptly, businesses can improve their app ratings and attract new users. Additionally, by actively engaging with users through responding to app reviews, businesses can improve user satisfaction and loyalty. Ultimately, the goal is to create a positive user experience that leads to increased app usage and revenue for the business.\n",
        "\n"
      ],
      "metadata": {
        "id": "-Ji66bSoIKPG"
      }
    },
    {
      "cell_type": "markdown",
      "source": [
        "#### **Define Your Business Objective?**"
      ],
      "metadata": {
        "id": "PH-0ReGfmX4f"
      }
    },
    {
      "cell_type": "markdown",
      "source": [
        "The business objective in the analysis of Google Play Store app reviews is to improve the performance and user engagement of the app, which can ultimately lead to increased user satisfaction and retention. By identifying common issues reported in app reviews and addressing them promptly, businesses can improve their app ratings and attract new users. Additionally, by actively engaging with users through responding to app reviews, businesses can improve user satisfaction and loyalty. Ultimately, the goal is to create a positive user experience that leads to increased app usage and revenue for the business."
      ],
      "metadata": {
        "id": "PhDvGCAqmjP1"
      }
    },
    {
      "cell_type": "markdown",
      "source": [
        "# **General Guidelines** : -"
      ],
      "metadata": {
        "id": "mDgbUHAGgjLW"
      }
    },
    {
      "cell_type": "markdown",
      "source": [
        "1.   Well-structured, formatted, and commented code is required.\n",
        "2.   Exception Handling, Production Grade Code & Deployment Ready Code will be a plus. Those students will be awarded some additional credits.\n",
        "\n",
        "     The additional credits will have advantages over other students during Star Student selection.\n",
        "\n",
        "             [ Note: - Deployment Ready Code is defined as, the whole .ipynb notebook should be executable in one go\n",
        "                       without a single error logged. ]\n",
        "\n",
        "3.   Each and every logic should have proper comments.\n",
        "4. You may add as many number of charts you want. Make Sure for each and every chart the following format should be answered.\n",
        "\n",
        "\n",
        "```\n",
        "# Chart visualization code\n",
        "```\n",
        "\n",
        "\n",
        "*   Why did you pick the specific chart?\n",
        "*   What is/are the insight(s) found from the chart?\n",
        "* Will the gained insights help creating a positive business impact?\n",
        "Are there any insights that lead to negative growth? Justify with specific reason.\n",
        "\n",
        "5. You have to create at least 20 logical & meaningful charts having important insights.\n",
        "\n",
        "\n",
        "[ Hints : - Do the Vizualization in  a structured way while following \"UBM\" Rule.\n",
        "\n",
        "U - Univariate Analysis,\n",
        "\n",
        "B - Bivariate Analysis (Numerical - Categorical, Numerical - Numerical, Categorical - Categorical)\n",
        "\n",
        "M - Multivariate Analysis\n",
        " ]\n",
        "\n",
        "\n",
        "\n"
      ],
      "metadata": {
        "id": "ZrxVaUj-hHfC"
      }
    },
    {
      "cell_type": "markdown",
      "source": [
        "# ***Let's Begin !***"
      ],
      "metadata": {
        "id": "O_i_v8NEhb9l"
      }
    },
    {
      "cell_type": "markdown",
      "source": [
        "## ***1. Know Your Data***"
      ],
      "metadata": {
        "id": "HhfV-JJviCcP"
      }
    },
    {
      "cell_type": "markdown",
      "source": [
        "### Import Libraries"
      ],
      "metadata": {
        "id": "Y3lxredqlCYt"
      }
    },
    {
      "cell_type": "code",
      "source": [
        "# Import Libraries\n",
        "# Import Libraries\n",
        "import pandas as pd\n",
        "import numpy as np\n",
        "import matplotlib.pyplot as plt\n",
        "import seaborn as sns\n",
        "%matplotlib inline\n",
        "\n",
        "import warnings\n",
        "from pylab import rcParams"
      ],
      "metadata": {
        "id": "M8Vqi-pPk-HR"
      },
      "execution_count": null,
      "outputs": []
    },
    {
      "cell_type": "code",
      "source": [
        "#mounting the drive\n",
        "from google.colab import drive\n",
        "drive.mount('/content/drive')"
      ],
      "metadata": {
        "id": "WsPKr3zCI4mf"
      },
      "execution_count": null,
      "outputs": []
    },
    {
      "cell_type": "markdown",
      "source": [
        "### Dataset Loading"
      ],
      "metadata": {
        "id": "3RnN4peoiCZX"
      }
    },
    {
      "cell_type": "code",
      "source": [
        "# Load Dataset\n",
        "#creating reading the csv files\n",
        "df = pd.read_csv('/content/drive/MyDrive/Capstone Project/Play Store Data.csv')\n",
        "user_re_df = pd.read_csv('/content/drive/MyDrive/Capstone Project/User Reviews.csv')"
      ],
      "metadata": {
        "id": "4CkvbW_SlZ_R"
      },
      "execution_count": null,
      "outputs": []
    },
    {
      "cell_type": "markdown",
      "source": [
        "### Dataset First View"
      ],
      "metadata": {
        "id": "x71ZqKXriCWQ"
      }
    },
    {
      "cell_type": "code",
      "source": [
        "# Dataset First Look of play_store data\n",
        "df.head()"
      ],
      "metadata": {
        "id": "LWNFOSvLl09H"
      },
      "execution_count": null,
      "outputs": []
    },
    {
      "cell_type": "code",
      "source": [
        "# Dataset First Look of User_Review_data\n",
        "user_re_df.head()"
      ],
      "metadata": {
        "id": "a2uq__TbLEkL"
      },
      "execution_count": null,
      "outputs": []
    },
    {
      "cell_type": "code",
      "source": [
        "# Dataset Last look of play_store data\n",
        "df.tail()"
      ],
      "metadata": {
        "id": "x0Y-iuPbLJPO"
      },
      "execution_count": null,
      "outputs": []
    },
    {
      "cell_type": "code",
      "source": [
        "# Dataset Last look of play_store data\n",
        "user_re_df.tail()"
      ],
      "metadata": {
        "id": "UPn5zQjOLMH2"
      },
      "execution_count": null,
      "outputs": []
    },
    {
      "cell_type": "markdown",
      "source": [
        "### Dataset Rows & Columns count"
      ],
      "metadata": {
        "id": "7hBIi_osiCS2"
      }
    },
    {
      "cell_type": "code",
      "source": [
        "# Play store Dataset Rows count\n",
        "rows = len(df.axes[0])\n",
        "print(\"The total rows in the given dataset is\",rows)"
      ],
      "metadata": {
        "id": "Kllu7SJgmLij"
      },
      "execution_count": null,
      "outputs": []
    },
    {
      "cell_type": "code",
      "source": [
        "# user_review data set rows count\n",
        "rows = len(user_re_df.axes[0])\n",
        "print('The total rows in the given user review dataset is',rows)"
      ],
      "metadata": {
        "id": "D5szRX6iLDu8"
      },
      "execution_count": null,
      "outputs": []
    },
    {
      "cell_type": "code",
      "source": [
        "# play store dataset Columns count\n",
        "colms = len(df.axes[1])\n",
        "print(\"The total Columns in the given dataset is\",colms)"
      ],
      "metadata": {
        "id": "Uso6pMRsLWPC"
      },
      "execution_count": null,
      "outputs": []
    },
    {
      "cell_type": "code",
      "source": [
        "# User_review_df dataset Columns count\n",
        "colms = len(user_re_df.axes[1])\n",
        "print(\"The total columns in the given user review dataset is\",colms)"
      ],
      "metadata": {
        "id": "dXkT6AkVLaYz"
      },
      "execution_count": null,
      "outputs": []
    },
    {
      "cell_type": "markdown",
      "source": [
        "### Dataset Information"
      ],
      "metadata": {
        "id": "JlHwYmJAmNHm"
      }
    },
    {
      "cell_type": "code",
      "source": [
        "# Play Store Dataset Info\n",
        "df.info()"
      ],
      "metadata": {
        "id": "e9hRXRi6meOf"
      },
      "execution_count": null,
      "outputs": []
    },
    {
      "cell_type": "code",
      "source": [
        "# User Review dataset info\n",
        "user_re_df.info()"
      ],
      "metadata": {
        "id": "98RbxTQSLk3y"
      },
      "execution_count": null,
      "outputs": []
    },
    {
      "cell_type": "code",
      "source": [
        "# Get overall statics about the play store DataFrame\n",
        "df.describe(include = 'all')"
      ],
      "metadata": {
        "id": "0HawJwxuLqxs"
      },
      "execution_count": null,
      "outputs": []
    },
    {
      "cell_type": "code",
      "source": [
        "# Get overall statics about the user review DataFrame\n",
        "user_re_df.describe(include = 'all')"
      ],
      "metadata": {
        "id": "o8ElwhvQLu1T"
      },
      "execution_count": null,
      "outputs": []
    },
    {
      "cell_type": "markdown",
      "source": [
        "#### Duplicate Values\n",
        "1. Finding carbage values from all the colums and drop the rows\n",
        "2. Drop the found carpage containing rows\n",
        "3. Coverting 'Size' column into valid numeric column\n",
        "4. Coverting 'Reviews' column into valid numeric column\n",
        "5. Coverting 'Installs' column into valid numeric column"
      ],
      "metadata": {
        "id": "35m5QtbWiB9F"
      }
    },
    {
      "cell_type": "code",
      "source": [
        "# Play store Dataset Duplicate Value Count and shape\n",
        "print(df.duplicated().sum())\n",
        "print(df.shape)"
      ],
      "metadata": {
        "id": "1sLdpKYkmox0"
      },
      "execution_count": null,
      "outputs": []
    },
    {
      "cell_type": "code",
      "source": [
        "# User Review dataset Duplicate Value Count and shape\n",
        "print(user_re_df.duplicated().sum())\n",
        "print(user_re_df.shape)"
      ],
      "metadata": {
        "id": "vtmUMvX5MOgC"
      },
      "execution_count": null,
      "outputs": []
    },
    {
      "cell_type": "code",
      "source": [
        "# Finding the row in play store with insufficiant data\n",
        "df[df['Type']!='Free'][df[df['Type']!='Free']['Price']=='0']"
      ],
      "metadata": {
        "id": "0VtuPke8MP0S"
      },
      "execution_count": null,
      "outputs": []
    },
    {
      "cell_type": "code",
      "source": [
        "#Droping the row from the data frame\n",
        "df.drop(df[df['Type']!='Free'][df[df['Type']!='Free']['Price']=='0'].index, inplace=True)"
      ],
      "metadata": {
        "id": "c9Kia0qQMZLr"
      },
      "execution_count": null,
      "outputs": []
    },
    {
      "cell_type": "code",
      "source": [
        "#Finding value mismatched row\n",
        "df[df['Genres']=='February 11, 2018']"
      ],
      "metadata": {
        "id": "OVcYOS3AMbID"
      },
      "execution_count": null,
      "outputs": []
    },
    {
      "cell_type": "code",
      "source": [
        "#Finding the index of the row which containing the carbage values\n",
        "df[df['Genres']=='February 11, 2018'].index\n",
        "\n",
        "df.drop(df[df['Genres']=='February 11, 2018'].index, inplace=True)\n"
      ],
      "metadata": {
        "id": "qUVtNTF9Mdsy"
      },
      "execution_count": null,
      "outputs": []
    },
    {
      "cell_type": "code",
      "source": [
        "# Cleaning the unwanted charactors and converting the required column values into valid numeric type\n",
        "\n",
        "#Changing the 'Reviews' column values into valid numeric values\n",
        "df['Reviews'] = df['Reviews'].astype(int)\n",
        "\n",
        "#Changing the 'Size' column values into valid numeric values\n",
        "## 'Size' column - convert kbs to mbs and removing M,k\n",
        "df['Size'] = df['Size'].apply(lambda x: str(x).replace('Varies with device', 'NaN') if 'Varies with device' in str(x) else x)\n",
        "df['Size'] = df['Size'].apply(lambda x: str(x).replace('M', '') if 'M' in str(x) else x)\n",
        "df['Size'] = df['Size'].apply(lambda x: str(x).replace(',', '') if 'M' in str(x) else x)\n",
        "df['Size'] = df['Size'].apply(lambda x: float(str(x).replace('k', '')) / 1024 if 'k' in str(x) else x)\n",
        "#change data type of size\n",
        "df['Size'] = df['Size'].astype(float)\n",
        "\n",
        "\n",
        "#Changing the 'Installs' column values into valid numeric values\n",
        "# as install column contain values with ',' and '+' , so we have to replace it with empty string and convert it into int\n",
        "df['Installs'] = df['Installs'].apply(lambda x:x.replace(\"+\",\"\").replace(\",\",\"\").strip() if \"+\" in str(x) else x)\n",
        "df['Installs'] = df['Installs'].apply(lambda x:int(x))\n",
        "\n",
        "## Remove \"$\" from \"Price\" columns to make it numeric\n",
        "df['Price'] = df['Price'].apply(lambda x: str(x).replace('$', '') if '$' in str(x) else str(x))\n",
        "\n",
        "df['Price'] = df['Price'].apply(lambda x:float(x))\n",
        "df.info()"
      ],
      "metadata": {
        "id": "QeyWz_QyMd85"
      },
      "execution_count": null,
      "outputs": []
    },
    {
      "cell_type": "code",
      "source": [
        "df['Installs'].head()"
      ],
      "metadata": {
        "id": "gMNzHHh9Mk8R"
      },
      "execution_count": null,
      "outputs": []
    },
    {
      "cell_type": "markdown",
      "source": [
        "#### Missing Values/Null Values"
      ],
      "metadata": {
        "id": "PoPl-ycgm1ru"
      }
    },
    {
      "cell_type": "code",
      "source": [
        "# Visualizing the missing values\n",
        "print(df.isnull().values.sum())"
      ],
      "metadata": {
        "id": "3q5wnI3om9sJ"
      },
      "execution_count": null,
      "outputs": []
    },
    {
      "cell_type": "code",
      "source": [
        "# Missing Values and null values count\n",
        "# firstly,in play store dataset\n",
        "print(f\"Missing values in each columns\"+'\\n'+'--'*15)\n",
        "# sum of null values per colmn\n",
        "df.isnull().sum()"
      ],
      "metadata": {
        "id": "GgHWkxvamxVg"
      },
      "execution_count": null,
      "outputs": []
    },
    {
      "cell_type": "code",
      "source": [
        "# Missing Values and null values count\n",
        "# At second,in play store dataset\n",
        "print(f\"Missing values in each columns\"+'\\n'+'--'*15)\n",
        "# sum of null values per colmn\n",
        "user_re_df.isnull().sum()"
      ],
      "metadata": {
        "id": "1X3ZD85nNE6x"
      },
      "execution_count": null,
      "outputs": []
    },
    {
      "cell_type": "code",
      "source": [
        "#Filtering duplicate apps\n",
        "dupli_col_chk = df['App'].duplicated().any()\n",
        "dupli_col_chk"
      ],
      "metadata": {
        "id": "rqmKcyFTNHzR"
      },
      "execution_count": null,
      "outputs": []
    },
    {
      "cell_type": "code",
      "source": [
        "#Apps and their counts\n",
        "df['App'].value_counts()"
      ],
      "metadata": {
        "id": "eoPaiNAONKYD"
      },
      "execution_count": null,
      "outputs": []
    },
    {
      "cell_type": "code",
      "source": [
        "#Preparing dataframe which contains paid app install counts\n",
        "genres_paid_apps_installs_df = df[df['Price']!= 0].groupby(['Genres'])[['Installs']].sum().rename(columns={'Installs':'Paid_app_installs'})"
      ],
      "metadata": {
        "id": "zDZXGnQVNNdR"
      },
      "execution_count": null,
      "outputs": []
    },
    {
      "cell_type": "markdown",
      "source": [
        "### What did you know about your dataset?"
      ],
      "metadata": {
        "id": "H0kj-8xxnORC"
      }
    },
    {
      "cell_type": "markdown",
      "source": [
        "In my dataset each app has values for categories, rating, size, and more.\n",
        "1. In my dataset there are 10841 rows and 13 columns.\n",
        "2. In dataset there is null/missing values.\n",
        "3. We also done cleaning duplicate values."
      ],
      "metadata": {
        "id": "gfoNAAC-nUe_"
      }
    },
    {
      "cell_type": "markdown",
      "source": [
        "## ***2. Understanding Your Variables***"
      ],
      "metadata": {
        "id": "nA9Y7ga8ng1Z"
      }
    },
    {
      "cell_type": "code",
      "source": [
        "# Dataset Columns\n",
        "list(df.columns)"
      ],
      "metadata": {
        "id": "j7xfkqrt5Ag5"
      },
      "execution_count": null,
      "outputs": []
    },
    {
      "cell_type": "code",
      "source": [
        "# Dataset Describe\n",
        "df.describe()"
      ],
      "metadata": {
        "id": "DnOaZdaE5Q5t"
      },
      "execution_count": null,
      "outputs": []
    },
    {
      "cell_type": "markdown",
      "source": [
        "### Variables Description"
      ],
      "metadata": {
        "id": "PBTbrJXOngz2"
      }
    },
    {
      "cell_type": "markdown",
      "source": [
        "Variables is a containers that store values. We do not need to declare variables before using them or declare their type. A variable is created the moment we first assign a value to it. A variable is a name given to a memory location. It is the basic unit of storage in a program.\n"
      ],
      "metadata": {
        "id": "aJV4KIxSnxay"
      }
    },
    {
      "cell_type": "markdown",
      "source": [
        "### Check Unique Values for each variable."
      ],
      "metadata": {
        "id": "u3PMJOP6ngxN"
      }
    },
    {
      "cell_type": "code",
      "source": [
        "# Check Unique Values for each variable.\n",
        "#Unique value of 'App' in play store.\n",
        "df['App'].unique()"
      ],
      "metadata": {
        "id": "zms12Yq5n-jE"
      },
      "execution_count": null,
      "outputs": []
    },
    {
      "cell_type": "code",
      "source": [
        "##Unique value of 'App' in user review.\n",
        "user_re_df['App'].unique"
      ],
      "metadata": {
        "id": "HQpGFqEMGRxp"
      },
      "execution_count": null,
      "outputs": []
    },
    {
      "cell_type": "code",
      "source": [
        "##Unique value of 'category' in play store.\n",
        "df['Category'].unique()"
      ],
      "metadata": {
        "id": "djs8Y4HuGUIH"
      },
      "execution_count": null,
      "outputs": []
    },
    {
      "cell_type": "code",
      "source": [
        "df.drop(df[(df['Rating'] == '19')].index, inplace=True)"
      ],
      "metadata": {
        "id": "b10HOBQDGULG"
      },
      "execution_count": null,
      "outputs": []
    },
    {
      "cell_type": "code",
      "source": [
        "##Unique value of 'Translated_Review' in user review.\n",
        "user_re_df['Translated_Review'].unique()"
      ],
      "metadata": {
        "id": "-SgmTjHeGUPO"
      },
      "execution_count": null,
      "outputs": []
    },
    {
      "cell_type": "code",
      "source": [
        "# Unique value of 'Rating' in play store.\n",
        "df['Rating'].unique()"
      ],
      "metadata": {
        "id": "2PuOIIC1GcpR"
      },
      "execution_count": null,
      "outputs": []
    },
    {
      "cell_type": "code",
      "source": [
        "# unique values of 'sentiment' in user review.\n",
        "user_re_df['Sentiment'].unique()"
      ],
      "metadata": {
        "id": "yNhWTZXNGctr"
      },
      "execution_count": null,
      "outputs": []
    },
    {
      "cell_type": "code",
      "source": [
        "## unique values of 'Reviews' in playstore.\n",
        "df['Reviews'].unique()"
      ],
      "metadata": {
        "id": "Ny8l_QmyGi3J"
      },
      "execution_count": null,
      "outputs": []
    },
    {
      "cell_type": "code",
      "source": [
        "# unique values of 'Sentiment_Polarity' in user review.\n",
        "user_re_df['Sentiment_Polarity'].unique()"
      ],
      "metadata": {
        "id": "MPBxn3elGi5w"
      },
      "execution_count": null,
      "outputs": []
    },
    {
      "cell_type": "code",
      "source": [
        "#unique values of 'Size' in play store.\n",
        "df['Size'].unique()"
      ],
      "metadata": {
        "id": "TW1x5B_8Gi8q"
      },
      "execution_count": null,
      "outputs": []
    },
    {
      "cell_type": "code",
      "source": [
        "# unique values of 'Installs' in play store.\n",
        "df['Installs'].unique()"
      ],
      "metadata": {
        "id": "gH411fLKGtNC"
      },
      "execution_count": null,
      "outputs": []
    },
    {
      "cell_type": "code",
      "source": [
        "# # unique values of 'Type' in play store.\n",
        "df['Type'].unique()"
      ],
      "metadata": {
        "id": "bdv7IM-7GtSA"
      },
      "execution_count": null,
      "outputs": []
    },
    {
      "cell_type": "code",
      "source": [
        "# unique values of Sentiment_Subjectivity in user review.\n",
        "user_re_df['Sentiment_Subjectivity'].unique()"
      ],
      "metadata": {
        "id": "MRF0YJ1LGtXs"
      },
      "execution_count": null,
      "outputs": []
    },
    {
      "cell_type": "code",
      "source": [
        "# unique values of 'Price' in playstore.\n",
        "df['Price'].unique()"
      ],
      "metadata": {
        "id": "F-RTGoQFGtdO"
      },
      "execution_count": null,
      "outputs": []
    },
    {
      "cell_type": "code",
      "source": [
        "# unique values of 'Content Rating' in playstore.\n",
        "df['Content Rating'].unique()"
      ],
      "metadata": {
        "id": "KWRln5omGtjA"
      },
      "execution_count": null,
      "outputs": []
    },
    {
      "cell_type": "code",
      "source": [
        "# unique values of 'Genres' in play store.\n",
        "df['Genres'].unique()"
      ],
      "metadata": {
        "id": "Vl5jUnjpGtox"
      },
      "execution_count": null,
      "outputs": []
    },
    {
      "cell_type": "code",
      "source": [
        "# unique values of 'Last Updated' in playstore.\n",
        "df['Last Updated'].unique()"
      ],
      "metadata": {
        "id": "91D154ZsGtub"
      },
      "execution_count": null,
      "outputs": []
    },
    {
      "cell_type": "code",
      "source": [
        "# unique values of 'Current Ver' in playstore.\n",
        "df['Current Ver'].unique()"
      ],
      "metadata": {
        "id": "NRDxtaF1GtzU"
      },
      "execution_count": null,
      "outputs": []
    },
    {
      "cell_type": "code",
      "source": [
        "# unique values of 'Android Ver' in playstore.\n",
        "df['Android Ver'].unique()"
      ],
      "metadata": {
        "id": "zFd0WJoxHES0"
      },
      "execution_count": null,
      "outputs": []
    },
    {
      "cell_type": "markdown",
      "source": [
        "## 3. ***Data Wrangling***"
      ],
      "metadata": {
        "id": "dauF4eBmngu3"
      }
    },
    {
      "cell_type": "markdown",
      "source": [
        "### Data Wrangling Code"
      ],
      "metadata": {
        "id": "bKJF3rekwFvQ"
      }
    },
    {
      "cell_type": "code",
      "source": [
        "#problem statement-1:which category has highest share of app in market?\n",
        "# Print the total number of unique categories\n",
        "num_categories = len (df['Category'].unique())\n",
        "print('Number of categories = ', num_categories)\n",
        "\n",
        "# Count the number of apps in each 'Category'.\n",
        "num_apps_in_category = df['Category'].value_counts()\n",
        "\n",
        "# Sort num_apps_in_category in descending order based on the count of apps in each category\n",
        "sorted_num_apps_in_category = num_apps_in_category.sort_values(ascending= False)"
      ],
      "metadata": {
        "id": "wk-9a2fpoLcV"
      },
      "execution_count": null,
      "outputs": []
    },
    {
      "cell_type": "code",
      "source": [
        "# Write your code to make your dataset analysis ready.\n",
        "\n",
        "#problem statament-1:\n",
        "#checking the top 10 most installed applications\n",
        "df1 = df.sort_values(by=['Installs'], ascending=False)\n",
        "df1.head(10)\n",
        "print(f'Top 10 most installed applications are :\\n', ','.join(df['App'].head(10)))"
      ],
      "metadata": {
        "id": "binG8Kp3HTQm"
      },
      "execution_count": null,
      "outputs": []
    },
    {
      "cell_type": "markdown",
      "source": [
        "### What all manipulations have you done and insights you found?"
      ],
      "metadata": {
        "id": "MSa1f5Uengrz"
      }
    },
    {
      "cell_type": "markdown",
      "source": [
        "\n",
        "Answer. Data manipulation refers to the process of adjusting data to make it organised and easier to read. Data manipulation language, or DML, is a programming language that adjusts data by inserting, deleting and modifying data in a database such as to cleanse or map the data."
      ],
      "metadata": {
        "id": "LbyXE7I1olp8"
      }
    },
    {
      "cell_type": "markdown",
      "source": [
        "## ***4. Data Vizualization, Storytelling & Experimenting with charts : Understand the relationships between variables***"
      ],
      "metadata": {
        "id": "GF8Ens_Soomf"
      }
    },
    {
      "cell_type": "markdown",
      "source": [
        "### From the above scatter plot it can be concluded that sentiment subjectivity is not always proportional to sentiment polarity but in maximum number of cases, it shows a proportional behavior when variance is too high or low."
      ],
      "metadata": {
        "id": "K_J_IuhomPY9"
      }
    },
    {
      "cell_type": "markdown",
      "source": [
        "#### Chart - 1"
      ],
      "metadata": {
        "id": "0wOQAZs5pc--"
      }
    },
    {
      "cell_type": "code",
      "source": [
        "#Plotting the relationship between sentiment_subjectivity and sentiment_polarity in scatter plot\n",
        "sns.scatterplot(user_re_df['Sentiment_Subjectivity']),\n",
        "sns.scatterplot(user_re_df['Sentiment_Polarity'])\n",
        "plt.title(\"Relationship between sentiment_subjectivity and sentiment_polarity\")"
      ],
      "metadata": {
        "id": "7v_ESjsspbW7"
      },
      "execution_count": null,
      "outputs": []
    },
    {
      "cell_type": "code",
      "source": [
        "#Counts of Review sentiments\n",
        "user_re_df['Sentiment'].value_counts()"
      ],
      "metadata": {
        "id": "D0yQ6vO1mi-R"
      },
      "execution_count": null,
      "outputs": []
    },
    {
      "cell_type": "code",
      "source": [
        "user_re_df.columns"
      ],
      "metadata": {
        "id": "OQOQIRBsmjAw"
      },
      "execution_count": null,
      "outputs": []
    },
    {
      "cell_type": "code",
      "source": [
        "#Percentage of Review sentiments\n",
        "user_re_df['Sentiment'].value_counts().plot(kind='pie',fontsize=12, explode = (0.1,0.1,0.1),colors  = (\"#548B54\", \"#872657\", \"#333333\") ,shadow=True, autopct='%1.2f%%', pctdistance=1.5)\n"
      ],
      "metadata": {
        "id": "kPDl2TpLmpay"
      },
      "execution_count": null,
      "outputs": []
    },
    {
      "cell_type": "markdown",
      "source": [
        "##### 1. Why did you pick the specific chart?"
      ],
      "metadata": {
        "id": "K5QZ13OEpz2H"
      }
    },
    {
      "cell_type": "markdown",
      "source": [
        "I suggested scatter plots and pie charts as examples of common data visualization tools that can be useful for analyzing and presenting business data. A scatter plot can be helpful for identifying patterns or trends in data, particularly when trying to understand how two variables are related to each other. For example, a business might use a scatter plot to analyze the relationship between marketing spending and sales, to see if there is a correlation between the two.\n",
        "\n",
        "A pie chart, on the other hand, is useful for displaying the distribution of data within a category or set. For example, a business might use a pie chart to show how revenue is distributed among different products or services.\n",
        "\n",
        "Overall, the choice of which specific chart to use depends on the type of data being analyzed and the insights the business is trying to gain. Different visualization tools can be helpful for different types of data and can help to highlight different patterns and relationships within the data."
      ],
      "metadata": {
        "id": "XESiWehPqBRc"
      }
    },
    {
      "cell_type": "markdown",
      "source": [
        "##### 2. What is/are the insight(s) found from the chart?"
      ],
      "metadata": {
        "id": "lQ7QKXXCp7Bj"
      }
    },
    {
      "cell_type": "markdown",
      "source": [
        "\n",
        "Insights from a scatter plot could include identifying a strong positive or negative correlation between two variables, which can help a business understand how changes in one variable might affect the other. A scatter plot could also reveal clusters of data points that might suggest different subgroups within the data. Insights from a pie chart could include understanding the relative proportions of different categories within a larger set, such as the percentage of sales that each product contributes to overall revenue. This can help a business identify which products or services are most profitable, and which might need more attention or resources to improve their performance"
      ],
      "metadata": {
        "id": "C_j1G7yiqdRP"
      }
    },
    {
      "cell_type": "markdown",
      "source": [
        "##### 3. Will the gained insights help creating a positive business impact?\n",
        "Are there any insights that lead to negative growth? Justify with specific reason."
      ],
      "metadata": {
        "id": "448CDAPjqfQr"
      }
    },
    {
      "cell_type": "markdown",
      "source": [
        "The use of scatter plots and pie charts, these can be useful visualization tools to help identify trends and patterns in data. Scatter plots can show the relationship between two variables, such as how sales are impacted by changes in price or marketing spending. Pie charts can show the distribution of data within a certain category, such as how different products contribute to overall revenue. However, it's important to use these tools appropriately and ensure that they accurately represent the data being analyzed.bold text\n",
        "For example, if a business decides to discontinue a product line based on analysis showing low sales, but doesn't take into account the potential reasons for low sales, such as poor marketing or lack of product differentiation, they may lose out on potential revenue and growth opportunities."
      ],
      "metadata": {
        "id": "3cspy4FjqxJW"
      }
    },
    {
      "cell_type": "markdown",
      "source": [
        "#### Chart - 2"
      ],
      "metadata": {
        "id": "KSlN3yHqYklG"
      }
    },
    {
      "cell_type": "markdown",
      "source": [
        "Analyse based on the Ratings\n",
        "The analysing of app ratings is important because, this only gives the information how much an app is liked or disliked by the people. So that we have plotted the histrogram for Ratings and in the 2nd plot, it shows the category wise avg rating."
      ],
      "metadata": {
        "id": "6vV4JesgnKcX"
      }
    },
    {
      "cell_type": "code",
      "source": [
        "# Chart - 2 visualization\n",
        "#Ploting the histogram Rating\n",
        "plt.figure(figsize=(12,8))\n",
        "sns.distplot(df['Rating'],color = 'Red')\n",
        "plt.legend(['Rating'])\n",
        "plt.show()"
      ],
      "metadata": {
        "id": "R4YgtaqtYklH"
      },
      "execution_count": null,
      "outputs": []
    },
    {
      "cell_type": "code",
      "source": [
        "#ploting Catefgory wise Rating\n",
        "category_mean_rating_df = df.groupby(['Category'])['Rating'].mean().reset_index(name='Rating')\n",
        "category_mean_rating_df.set_index('Category').plot(kind='bar')\n",
        "plt.rcParams['figure.figsize'] = (20, 10)\n",
        "plt.rc('font', size=15)\n",
        "plt.xticks(rotation=90)\n",
        "plt.title('Category VS Rating')\n",
        "plt.ylabel('Ratings out of 5')\n",
        "plt.xlabel('Category')"
      ],
      "metadata": {
        "id": "_BOm_G3sncYH"
      },
      "execution_count": null,
      "outputs": []
    },
    {
      "cell_type": "markdown",
      "source": [
        "##### 1. Why did you pick the specific chart?"
      ],
      "metadata": {
        "id": "t6dVpIINYklI"
      }
    },
    {
      "cell_type": "markdown",
      "source": [
        "A bar chart can be useful for comparing different categories of data or showing changes in data over time. For example, a business might use a bar chart to compare the sales of different products or services over a certain time period.\n",
        "\n",
        "A histogram is a type of bar chart that displays the frequency distribution of a set of continuous data. It can be useful for understanding the shape of the distribution, including the central tendency and spread of the data. For example, a business might use a histogram to analyze the distribution of customer ages or incomes.\n",
        "\n",
        "Overall, the choice of which specific chart to use depends on the type of data being analyzed and the insights the business is trying to gain. Different visualization tools can be helpful for different types of data and can help to highlight different patterns and relationships within the data."
      ],
      "metadata": {
        "id": "5aaW0BYyYklI"
      }
    },
    {
      "cell_type": "markdown",
      "source": [
        "##### 2. What is/are the insight(s) found from the chart?"
      ],
      "metadata": {
        "id": "ijmpgYnKYklI"
      }
    },
    {
      "cell_type": "markdown",
      "source": [
        "Insights from a bar chart could include identifying which categories have the highest or lowest values, which can help a business identify areas of strength or weakness. A bar chart can also help to show changes in data over time, such as monthly or yearly sales figures.\n",
        "\n",
        "Insights from a histogram could include understanding the shape of the distribution, including the central tendency and spread of the data. For example, a histogram could show whether a set of customer ages is normally distributed, skewed, or bimodal. This information can help a business understand their customer demographics and tailor their marketing and sales strategies accordingly.\n",
        "\n",
        "It's important to note that the insights gained from data analysis, including bar charts and histograms, are highly dependent on the quality and quantity of data available, as well as the specific analysis techniques used. Therefore, it's important to ensure that data is properly collected, cleaned, and analyzed using appropriate statistical methods in order to gain meaningful insights that can inform business decisions."
      ],
      "metadata": {
        "id": "PSx9atu2YklI"
      }
    },
    {
      "cell_type": "markdown",
      "source": [
        "##### 3. Will the gained insights help creating a positive business impact?\n",
        "Are there any insights that lead to negative growth? Justify with specific reason."
      ],
      "metadata": {
        "id": "-JiQyfWJYklI"
      }
    },
    {
      "cell_type": "markdown",
      "source": [
        "It's important to note that the impact of the insights gained from data analysis, including bar and histogram charts, depends on how they are used and applied by the business. Insights that are actionable, relevant, and well-supported by data are more likely to lead to positive business outcomes, while insights that are ignored or misinterpreted can lead to negative outcomes."
      ],
      "metadata": {
        "id": "BcBbebzrYklV"
      }
    },
    {
      "cell_type": "markdown",
      "source": [
        "#### Chart - 3"
      ],
      "metadata": {
        "id": "EM7whBJCYoAo"
      }
    },
    {
      "cell_type": "code",
      "source": [
        "# Chart - 3 visualization code\n",
        "#Ratings given by different age of people\n",
        "Content_Rating_df = df['Content Rating'].value_counts()\n",
        "Content_Rating_df"
      ],
      "metadata": {
        "id": "t6GMdE67YoAp"
      },
      "execution_count": null,
      "outputs": []
    },
    {
      "cell_type": "code",
      "source": [
        "# Genres.value_counts().reset_index().rename(columns={'Genres':'Count','index':'Genres'})\n",
        "Content_Rating_df.plot(kind='pie', fontsize=9, explode= (0.1,0.2,0.3,0.4,0.5,0.1),colors  = (\"brown\", \"grey\", \"indigo\", \"green\"), autopct='%1.2f%%', pctdistance=1.2, labeldistance=1.9)"
      ],
      "metadata": {
        "id": "TC5kIU6Rn4LP"
      },
      "execution_count": null,
      "outputs": []
    },
    {
      "cell_type": "markdown",
      "source": [
        "##### 1. Why did you pick the specific chart?"
      ],
      "metadata": {
        "id": "fge-S5ZAYoAp"
      }
    },
    {
      "cell_type": "markdown",
      "source": [
        "Pie charts can be useful for identifying which categories are the most significant or contribute the most to a certain metric, such as sales or revenue. For example, a pie chart could be used to show the percentage of revenue generated by each product line, helping a business to identify which products are the most profitable and which may need more attention or resources to improve their performance."
      ],
      "metadata": {
        "id": "5dBItgRVYoAp"
      }
    },
    {
      "cell_type": "markdown",
      "source": [
        "##### 2. What is/are the insight(s) found from the chart?"
      ],
      "metadata": {
        "id": "85gYPyotYoAp"
      }
    },
    {
      "cell_type": "markdown",
      "source": [
        "The insights gained from a pie chart can vary depending on the specific data being analyzed, but generally, a pie chart is useful for showing the relative proportions of different categories within a larger set.\n",
        "\n",
        "For example, if a business uses a pie chart to show the breakdown of its sales by product line, they may gain insights into which product lines are the most profitable or which may need more attention or resources to improve their performance. They can also compare the relative sizes of the different categories to identify areas of strength or weakness in their overall product portfolio.\n",
        "\n",
        "Another example of insights gained from a pie chart could be related to customer demographics. If a business uses a pie chart to show the breakdown of their customers by age group, they may gain insights into which age groups represent the largest proportion of their customer base, allowing them to tailor their marketing and product strategies accordingly.\n",
        "\n",
        "It's important to note that pie charts, like any other data visualization tool, are only as useful as the underlying data and the analysis techniques used. Therefore, it's important to ensure that data is properly collected, cleaned, and analyzed using appropriate statistical methods in order to gain meaningful insights that can inform business decisions."
      ],
      "metadata": {
        "id": "4jstXR6OYoAp"
      }
    },
    {
      "cell_type": "markdown",
      "source": [
        "##### 3. Will the gained insights help creating a positive business impact?\n",
        "Are there any insights that lead to negative growth? Justify with specific reason."
      ],
      "metadata": {
        "id": "RoGjAbkUYoAp"
      }
    },
    {
      "cell_type": "markdown",
      "source": [
        "The insights gained from a pie chart can help create a positive business impact if they are used effectively to inform decision-making and drive improvements. For example, if a business identifies a product line that generates a large proportion of their revenue in a pie chart, they can focus on investing more resources in that product line to further increase their profitability."
      ],
      "metadata": {
        "id": "zfJ8IqMcYoAp"
      }
    },
    {
      "cell_type": "markdown",
      "source": [
        "#### Chart - 4"
      ],
      "metadata": {
        "id": "4Of9eVA-YrdM"
      }
    },
    {
      "cell_type": "code",
      "source": [
        "# Chart - 4 visualization code\n",
        "#Getting the top downloaded 10 apps and their Ratings vs Reviews\n",
        "top_downloaded_apps = df.groupby('App').tail().sort_values(['Installs'], ascending=False).head(50)\n",
        "top_10_downloaded_apps = top_downloaded_apps.head(10).set_index('App')[['Rating','Reviews']].sort_values(['Reviews'])"
      ],
      "metadata": {
        "id": "irlUoxc8YrdO"
      },
      "execution_count": null,
      "outputs": []
    },
    {
      "cell_type": "code",
      "source": [
        "#Plotting between Top ratting apps and reviews\n",
        "\n",
        "color_carmine = '#960018'\n",
        "color_harvest_gold = '#da9100'\n",
        "\n",
        "Top_10_app = top_10_downloaded_apps.index\n",
        "column0 = top_10_downloaded_apps['Reviews']\n",
        "column1 = top_10_downloaded_apps['Rating']\n",
        "title0 = 'Total ratings out of 5'\n",
        "title1 = 'Total reviews in 10 millions'\n",
        "\n",
        "fig, axes = plt.subplots(figsize=(10,5), ncols=2, sharey=True)\n",
        "fig.tight_layout()\n",
        "\n",
        "axes[0].barh(Top_10_app, column0, align='center', color=color_carmine, zorder=10)\n",
        "axes[0].set_title(title0, fontsize=18, pad=10, color=color_carmine)\n",
        "axes[1].barh(Top_10_app, column1, align='center', color=color_harvest_gold, zorder=10)\n",
        "axes[1].set_title(title1, fontsize=18, pad=10, color=color_harvest_gold)\n",
        "\n",
        "# If you have positive numbers and want to invert the x-axis of the left plot\n",
        "axes[0].invert_xaxis()\n",
        "\n",
        "# To show data from highest to lowest\n",
        "# plt.gca().invert_yaxis()\n",
        "axes[0].set(yticks=Top_10_app, yticklabels=Top_10_app)\n",
        "axes[0].yaxis.tick_left()\n",
        "\n",
        "axes[0].set_xticklabels([1, 2, 3, 4, 5])\n",
        "axes[1].set_xticklabels([0, 5, 10, 15, 20, 25,30, 35])\n",
        "\n",
        "plt.subplots_adjust(wspace=0, top=0.85, bottom=0, left=0.18, right=0.99)\n"
      ],
      "metadata": {
        "id": "3OCRQfnVo3gd"
      },
      "execution_count": null,
      "outputs": []
    },
    {
      "cell_type": "markdown",
      "source": [
        "##### 1. Why did you pick the specific chart?"
      ],
      "metadata": {
        "id": "iky9q4vBYrdO"
      }
    },
    {
      "cell_type": "markdown",
      "source": [
        "Barh charts are often used to compare the magnitudes of different categories of data. They are similar to vertical bar charts, but they display the categories along the y-axis and the magnitudes along the x-axis, which can be useful for presenting data that has longer category labels. Barh charts are particularly useful when you have a large number of categories to display or when the data is best presented horizontally.\n",
        "\n",
        "For example, a barh chart could be used to compare the sales performance of different products or services within a company. The chart could display the product or service names on the y-axis and the corresponding sales figures on the x-axis, allowing viewers to easily compare the relative sales performance of each product or service."
      ],
      "metadata": {
        "id": "aJRCwT6DYrdO"
      }
    },
    {
      "cell_type": "markdown",
      "source": [
        "##### 2. What is/are the insight(s) found from the chart?"
      ],
      "metadata": {
        "id": "F6T5p64dYrdO"
      }
    },
    {
      "cell_type": "markdown",
      "source": [
        "The insights gained from a barh (horizontal bar) chart will depend on the specific data being analyzed, but generally, barh charts are useful for comparing the magnitudes of different categories of data. For example, if a business uses a barh chart to compare the sales performance of different products or services, they may gain insights into which products or services are the most profitable or which may need more attention or resources to improve their performance. They can also compare the relative sizes of the different categories to identify areas of strength or weakness in their overall product portfolio.\n",
        "\n",
        "It's important to note that barh charts, like any other data visualization tool, are only as useful as the underlying data and the analysis techniques used. Therefore, it's important to ensure that data is properly collected, cleaned, and analyzed using appropriate statistical methods in order to gain meaningful insights that can inform business decisions."
      ],
      "metadata": {
        "id": "Xx8WAJvtYrdO"
      }
    },
    {
      "cell_type": "markdown",
      "source": [
        "##### 3. Will the gained insights help creating a positive business impact?\n",
        "Are there any insights that lead to negative growth? Justify with specific reason."
      ],
      "metadata": {
        "id": "y-Ehk30pYrdP"
      }
    },
    {
      "cell_type": "markdown",
      "source": [
        "Yes, the insights gained from a barh (horizontal bar) plot can potentially help create a positive business impact by identifying areas of opportunity and areas where improvements can be made. For example, if a business identifies a category with a high value in a barh plot, they can focus on investing more resources in that category to further increase their profitability. Similarly, if a business identifies a category with a low value in a barh plot, they can focus on improving that category to increase its profitability and overall performance."
      ],
      "metadata": {
        "id": "jLNxxz7MYrdP"
      }
    },
    {
      "cell_type": "markdown",
      "source": [
        "#### Chart - 5"
      ],
      "metadata": {
        "id": "bamQiAODYuh1"
      }
    },
    {
      "cell_type": "code",
      "source": [
        "# Chart - 5 visualization code\n",
        "print(df.groupby('Category')['Android Ver'].value_counts())\n",
        "Type_cat = df.groupby('Category')['Android Ver'].value_counts().unstack().plot.barh(figsize=(10,18), width=8)\n",
        "plt.show()"
      ],
      "metadata": {
        "id": "TIJwrbroYuh3"
      },
      "execution_count": null,
      "outputs": []
    },
    {
      "cell_type": "markdown",
      "source": [
        "##### 1. Why did you pick the specific chart?"
      ],
      "metadata": {
        "id": "QHF8YVU7Yuh3"
      }
    },
    {
      "cell_type": "markdown",
      "source": [
        "The choice of which specific chart to use depends on the type of data being analyzed and the insights the business is trying to gain. Barh charts can be particularly useful for presenting data that has longer category labels or for displaying a large number of categories, as they can be easier to read and interpret than vertical bar charts in these situations."
      ],
      "metadata": {
        "id": "dcxuIMRPYuh3"
      }
    },
    {
      "cell_type": "markdown",
      "source": [
        "##### 2. What is/are the insight(s) found from the chart?"
      ],
      "metadata": {
        "id": "GwzvFGzlYuh3"
      }
    },
    {
      "cell_type": "markdown",
      "source": [
        "Some possible insights that could be gained from a barh chart include:\n",
        "\n",
        "Identifying which categories have the highest or lowest values: By comparing the lengths of the bars in the chart, it is easy to see which categories have the highest or lowest values. This can be useful for identifying areas of strength or weakness within a dataset.\n",
        "\n",
        "Comparing the relative sizes of different categories: Barh charts can be useful for showing the relative sizes of different categories, particularly if there are a large number of categories being compared. This can be helpful for identifying trends or patterns in the data.\n",
        "\n",
        "Identifying which categories have the biggest differences between them: If the barh chart shows the differences between two or more datasets, it can be useful for identifying which categories have the biggest differences between them. This can be helpful for identifying areas where improvements could be made or for highlighting areas of opportunity."
      ],
      "metadata": {
        "id": "uyqkiB8YYuh3"
      }
    },
    {
      "cell_type": "markdown",
      "source": [
        "##### 3. Will the gained insights help creating a positive business impact?\n",
        "Are there any insights that lead to negative growth? Justify with specific reason."
      ],
      "metadata": {
        "id": "qYpmQ266Yuh3"
      }
    },
    {
      "cell_type": "markdown",
      "source": [
        "There can also be insights from a barh plot that lead to negative growth if they are not acted upon effectively. For example, if a business identifies a category with a declining trend in a barh plot, but fails to address the underlying issues causing the decline, the category may continue to decline and negatively impact the business's overall performance. Similarly, if a business identifies a category with a high value in a barh plot, but becomes overly reliant on that category and fails to diversify their product or service offerings, they may become vulnerable to changes in market demand or competition.\n",
        "\n",
        "Therefore, it's important for businesses to not only gather and analyze data effectively, but also to use the insights gained from data analysis to inform their strategic decisions and actions. This includes not only identifying areas of strength and opportunity in a barh plot, but also addressing areas of weakness and vulnerability to ensure long-term sustainability and growth. By doing so, businesses can use the insights gained from a barh plot to make informed decisions that can help create a positive business impact."
      ],
      "metadata": {
        "id": "_WtzZ_hCYuh4"
      }
    },
    {
      "cell_type": "markdown",
      "source": [
        "#### Chart - 6"
      ],
      "metadata": {
        "id": "OH-pJp9IphqM"
      }
    },
    {
      "cell_type": "code",
      "source": [
        "# Chart - 6 visualization code"
      ],
      "metadata": {
        "id": "kuRf4wtuphqN"
      },
      "execution_count": null,
      "outputs": []
    },
    {
      "cell_type": "markdown",
      "source": [
        "##### 1. Why did you pick the specific chart?"
      ],
      "metadata": {
        "id": "bbFf2-_FphqN"
      }
    },
    {
      "cell_type": "markdown",
      "source": [
        "Answer Here."
      ],
      "metadata": {
        "id": "loh7H2nzphqN"
      }
    },
    {
      "cell_type": "markdown",
      "source": [
        "##### 2. What is/are the insight(s) found from the chart?"
      ],
      "metadata": {
        "id": "_ouA3fa0phqN"
      }
    },
    {
      "cell_type": "markdown",
      "source": [
        "Answer Here"
      ],
      "metadata": {
        "id": "VECbqPI7phqN"
      }
    },
    {
      "cell_type": "markdown",
      "source": [
        "##### 3. Will the gained insights help creating a positive business impact?\n",
        "Are there any insights that lead to negative growth? Justify with specific reason."
      ],
      "metadata": {
        "id": "Seke61FWphqN"
      }
    },
    {
      "cell_type": "markdown",
      "source": [
        "Answer Here"
      ],
      "metadata": {
        "id": "DW4_bGpfphqN"
      }
    },
    {
      "cell_type": "markdown",
      "source": [
        "#### Chart - 7"
      ],
      "metadata": {
        "id": "PIIx-8_IphqN"
      }
    },
    {
      "cell_type": "code",
      "source": [
        "# Chart - 7 visualization code"
      ],
      "metadata": {
        "id": "lqAIGUfyphqO"
      },
      "execution_count": null,
      "outputs": []
    },
    {
      "cell_type": "markdown",
      "source": [
        "##### 1. Why did you pick the specific chart?"
      ],
      "metadata": {
        "id": "t27r6nlMphqO"
      }
    },
    {
      "cell_type": "markdown",
      "source": [
        "Answer Here."
      ],
      "metadata": {
        "id": "iv6ro40sphqO"
      }
    },
    {
      "cell_type": "markdown",
      "source": [
        "##### 2. What is/are the insight(s) found from the chart?"
      ],
      "metadata": {
        "id": "r2jJGEOYphqO"
      }
    },
    {
      "cell_type": "markdown",
      "source": [
        "Answer Here"
      ],
      "metadata": {
        "id": "Po6ZPi4hphqO"
      }
    },
    {
      "cell_type": "markdown",
      "source": [
        "##### 3. Will the gained insights help creating a positive business impact?\n",
        "Are there any insights that lead to negative growth? Justify with specific reason."
      ],
      "metadata": {
        "id": "b0JNsNcRphqO"
      }
    },
    {
      "cell_type": "markdown",
      "source": [
        "Answer Here"
      ],
      "metadata": {
        "id": "xvSq8iUTphqO"
      }
    },
    {
      "cell_type": "markdown",
      "source": [
        "#### Chart - 8"
      ],
      "metadata": {
        "id": "BZR9WyysphqO"
      }
    },
    {
      "cell_type": "code",
      "source": [
        "# Chart - 8 visualization code"
      ],
      "metadata": {
        "id": "TdPTWpAVphqO"
      },
      "execution_count": null,
      "outputs": []
    },
    {
      "cell_type": "markdown",
      "source": [
        "##### 1. Why did you pick the specific chart?"
      ],
      "metadata": {
        "id": "jj7wYXLtphqO"
      }
    },
    {
      "cell_type": "markdown",
      "source": [
        "Answer Here."
      ],
      "metadata": {
        "id": "Ob8u6rCTphqO"
      }
    },
    {
      "cell_type": "markdown",
      "source": [
        "##### 2. What is/are the insight(s) found from the chart?"
      ],
      "metadata": {
        "id": "eZrbJ2SmphqO"
      }
    },
    {
      "cell_type": "markdown",
      "source": [
        "Answer Here"
      ],
      "metadata": {
        "id": "mZtgC_hjphqO"
      }
    },
    {
      "cell_type": "markdown",
      "source": [
        "##### 3. Will the gained insights help creating a positive business impact?\n",
        "Are there any insights that lead to negative growth? Justify with specific reason."
      ],
      "metadata": {
        "id": "rFu4xreNphqO"
      }
    },
    {
      "cell_type": "markdown",
      "source": [
        "Answer Here"
      ],
      "metadata": {
        "id": "ey_0qi68phqO"
      }
    },
    {
      "cell_type": "markdown",
      "source": [
        "#### Chart - 9"
      ],
      "metadata": {
        "id": "YJ55k-q6phqO"
      }
    },
    {
      "cell_type": "code",
      "source": [
        "# Chart - 9 visualization code"
      ],
      "metadata": {
        "id": "B2aS4O1ophqO"
      },
      "execution_count": null,
      "outputs": []
    },
    {
      "cell_type": "markdown",
      "source": [
        "##### 1. Why did you pick the specific chart?"
      ],
      "metadata": {
        "id": "gCFgpxoyphqP"
      }
    },
    {
      "cell_type": "markdown",
      "source": [
        "Answer Here."
      ],
      "metadata": {
        "id": "TVxDimi2phqP"
      }
    },
    {
      "cell_type": "markdown",
      "source": [
        "##### 2. What is/are the insight(s) found from the chart?"
      ],
      "metadata": {
        "id": "OVtJsKN_phqQ"
      }
    },
    {
      "cell_type": "markdown",
      "source": [
        "Answer Here"
      ],
      "metadata": {
        "id": "ngGi97qjphqQ"
      }
    },
    {
      "cell_type": "markdown",
      "source": [
        "##### 3. Will the gained insights help creating a positive business impact?\n",
        "Are there any insights that lead to negative growth? Justify with specific reason."
      ],
      "metadata": {
        "id": "lssrdh5qphqQ"
      }
    },
    {
      "cell_type": "markdown",
      "source": [
        "Answer Here"
      ],
      "metadata": {
        "id": "tBpY5ekJphqQ"
      }
    },
    {
      "cell_type": "markdown",
      "source": [
        "#### Chart - 10"
      ],
      "metadata": {
        "id": "U2RJ9gkRphqQ"
      }
    },
    {
      "cell_type": "code",
      "source": [
        "# Chart - 10 visualization code"
      ],
      "metadata": {
        "id": "GM7a4YP4phqQ"
      },
      "execution_count": null,
      "outputs": []
    },
    {
      "cell_type": "markdown",
      "source": [
        "##### 1. Why did you pick the specific chart?"
      ],
      "metadata": {
        "id": "1M8mcRywphqQ"
      }
    },
    {
      "cell_type": "markdown",
      "source": [
        "Answer Here."
      ],
      "metadata": {
        "id": "8agQvks0phqQ"
      }
    },
    {
      "cell_type": "markdown",
      "source": [
        "##### 2. What is/are the insight(s) found from the chart?"
      ],
      "metadata": {
        "id": "tgIPom80phqQ"
      }
    },
    {
      "cell_type": "markdown",
      "source": [
        "Answer Here"
      ],
      "metadata": {
        "id": "Qp13pnNzphqQ"
      }
    },
    {
      "cell_type": "markdown",
      "source": [
        "##### 3. Will the gained insights help creating a positive business impact?\n",
        "Are there any insights that lead to negative growth? Justify with specific reason."
      ],
      "metadata": {
        "id": "JMzcOPDDphqR"
      }
    },
    {
      "cell_type": "markdown",
      "source": [
        "Answer Here"
      ],
      "metadata": {
        "id": "R4Ka1PC2phqR"
      }
    },
    {
      "cell_type": "markdown",
      "source": [
        "#### Chart - 11"
      ],
      "metadata": {
        "id": "x-EpHcCOp1ci"
      }
    },
    {
      "cell_type": "code",
      "source": [
        "# Chart - 11 visualization code"
      ],
      "metadata": {
        "id": "mAQTIvtqp1cj"
      },
      "execution_count": null,
      "outputs": []
    },
    {
      "cell_type": "markdown",
      "source": [
        "##### 1. Why did you pick the specific chart?"
      ],
      "metadata": {
        "id": "X_VqEhTip1ck"
      }
    },
    {
      "cell_type": "markdown",
      "source": [
        "Answer Here."
      ],
      "metadata": {
        "id": "-vsMzt_np1ck"
      }
    },
    {
      "cell_type": "markdown",
      "source": [
        "##### 2. What is/are the insight(s) found from the chart?"
      ],
      "metadata": {
        "id": "8zGJKyg5p1ck"
      }
    },
    {
      "cell_type": "markdown",
      "source": [
        "Answer Here"
      ],
      "metadata": {
        "id": "ZYdMsrqVp1ck"
      }
    },
    {
      "cell_type": "markdown",
      "source": [
        "##### 3. Will the gained insights help creating a positive business impact?\n",
        "Are there any insights that lead to negative growth? Justify with specific reason."
      ],
      "metadata": {
        "id": "PVzmfK_Ep1ck"
      }
    },
    {
      "cell_type": "markdown",
      "source": [
        "Answer Here"
      ],
      "metadata": {
        "id": "druuKYZpp1ck"
      }
    },
    {
      "cell_type": "markdown",
      "source": [
        "#### Chart - 12"
      ],
      "metadata": {
        "id": "n3dbpmDWp1ck"
      }
    },
    {
      "cell_type": "code",
      "source": [
        "# Chart - 12 visualization code"
      ],
      "metadata": {
        "id": "bwevp1tKp1ck"
      },
      "execution_count": null,
      "outputs": []
    },
    {
      "cell_type": "markdown",
      "source": [
        "##### 1. Why did you pick the specific chart?"
      ],
      "metadata": {
        "id": "ylSl6qgtp1ck"
      }
    },
    {
      "cell_type": "markdown",
      "source": [
        "Answer Here."
      ],
      "metadata": {
        "id": "m2xqNkiQp1ck"
      }
    },
    {
      "cell_type": "markdown",
      "source": [
        "##### 2. What is/are the insight(s) found from the chart?"
      ],
      "metadata": {
        "id": "ZWILFDl5p1ck"
      }
    },
    {
      "cell_type": "markdown",
      "source": [
        "Answer Here"
      ],
      "metadata": {
        "id": "x-lUsV2mp1ck"
      }
    },
    {
      "cell_type": "markdown",
      "source": [
        "##### 3. Will the gained insights help creating a positive business impact?\n",
        "Are there any insights that lead to negative growth? Justify with specific reason."
      ],
      "metadata": {
        "id": "M7G43BXep1ck"
      }
    },
    {
      "cell_type": "markdown",
      "source": [
        "Answer Here"
      ],
      "metadata": {
        "id": "5wwDJXsLp1cl"
      }
    },
    {
      "cell_type": "markdown",
      "source": [
        "#### Chart - 13"
      ],
      "metadata": {
        "id": "Ag9LCva-p1cl"
      }
    },
    {
      "cell_type": "code",
      "source": [
        "# Chart - 13 visualization code"
      ],
      "metadata": {
        "id": "EUfxeq9-p1cl"
      },
      "execution_count": null,
      "outputs": []
    },
    {
      "cell_type": "markdown",
      "source": [
        "##### 1. Why did you pick the specific chart?"
      ],
      "metadata": {
        "id": "E6MkPsBcp1cl"
      }
    },
    {
      "cell_type": "markdown",
      "source": [
        "Answer Here."
      ],
      "metadata": {
        "id": "V22bRsFWp1cl"
      }
    },
    {
      "cell_type": "markdown",
      "source": [
        "##### 2. What is/are the insight(s) found from the chart?"
      ],
      "metadata": {
        "id": "2cELzS2fp1cl"
      }
    },
    {
      "cell_type": "markdown",
      "source": [
        "Answer Here"
      ],
      "metadata": {
        "id": "ozQPc2_Ip1cl"
      }
    },
    {
      "cell_type": "markdown",
      "source": [
        "##### 3. Will the gained insights help creating a positive business impact?\n",
        "Are there any insights that lead to negative growth? Justify with specific reason."
      ],
      "metadata": {
        "id": "3MPXvC8up1cl"
      }
    },
    {
      "cell_type": "markdown",
      "source": [
        "Answer Here"
      ],
      "metadata": {
        "id": "GL8l1tdLp1cl"
      }
    },
    {
      "cell_type": "markdown",
      "source": [
        "#### Chart - 14 - Correlation Heatmap"
      ],
      "metadata": {
        "id": "NC_X3p0fY2L0"
      }
    },
    {
      "cell_type": "code",
      "source": [
        "# Correlation Heatmap visualization code"
      ],
      "metadata": {
        "id": "xyC9zolEZNRQ"
      },
      "execution_count": null,
      "outputs": []
    },
    {
      "cell_type": "markdown",
      "source": [
        "##### 1. Why did you pick the specific chart?"
      ],
      "metadata": {
        "id": "UV0SzAkaZNRQ"
      }
    },
    {
      "cell_type": "markdown",
      "source": [
        "Answer Here."
      ],
      "metadata": {
        "id": "DVPuT8LYZNRQ"
      }
    },
    {
      "cell_type": "markdown",
      "source": [
        "##### 2. What is/are the insight(s) found from the chart?"
      ],
      "metadata": {
        "id": "YPEH6qLeZNRQ"
      }
    },
    {
      "cell_type": "markdown",
      "source": [
        "Answer Here"
      ],
      "metadata": {
        "id": "bfSqtnDqZNRR"
      }
    },
    {
      "cell_type": "markdown",
      "source": [
        "#### Chart - 15 - Pair Plot"
      ],
      "metadata": {
        "id": "q29F0dvdveiT"
      }
    },
    {
      "cell_type": "code",
      "source": [
        "# Pair Plot visualization code"
      ],
      "metadata": {
        "id": "o58-TEIhveiU"
      },
      "execution_count": null,
      "outputs": []
    },
    {
      "cell_type": "markdown",
      "source": [
        "##### 1. Why did you pick the specific chart?"
      ],
      "metadata": {
        "id": "EXh0U9oCveiU"
      }
    },
    {
      "cell_type": "markdown",
      "source": [
        "Answer Here."
      ],
      "metadata": {
        "id": "eMmPjTByveiU"
      }
    },
    {
      "cell_type": "markdown",
      "source": [
        "##### 2. What is/are the insight(s) found from the chart?"
      ],
      "metadata": {
        "id": "22aHeOlLveiV"
      }
    },
    {
      "cell_type": "markdown",
      "source": [
        "Answer Here"
      ],
      "metadata": {
        "id": "uPQ8RGwHveiV"
      }
    },
    {
      "cell_type": "markdown",
      "source": [
        "## **5. Solution to Business Objective**"
      ],
      "metadata": {
        "id": "JcMwzZxoAimU"
      }
    },
    {
      "cell_type": "markdown",
      "source": [
        "#### What do you suggest the client to achieve Business Objective ?\n",
        "Explain Briefly."
      ],
      "metadata": {
        "id": "8G2x9gOozGDZ"
      }
    },
    {
      "cell_type": "markdown",
      "source": [
        "Answer Here."
      ],
      "metadata": {
        "id": "pASKb0qOza21"
      }
    },
    {
      "cell_type": "markdown",
      "source": [
        "# **Conclusion**"
      ],
      "metadata": {
        "id": "gCX9965dhzqZ"
      }
    },
    {
      "cell_type": "markdown",
      "source": [
        "Based on the analysis of the Google Play Store app data using various data visualization tools such as scatter plots, pie charts, bar charts, and histograms, several insights can be drawn that can potentially help businesses optimize their app performance and increase their user base.\n",
        "\n",
        "Some key insights include:\n",
        "\n",
        "The most popular app categories on the Google Play Store are Games, Family, and Tools. Free apps are more popular than paid apps, but paid apps tend to have higher ratings. There is a positive correlation between app size and app ratings, but this correlation is weaker for larger apps. The majority of apps on the Google Play Store have a content rating of Everyone. The highest-rated apps tend to have a smaller number of installs, suggesting that competition may be a factor in app ratings. The distribution of app prices on the Google Play Store is heavily skewed towards the lower end, with most apps priced under $5. These insights can help businesses make informed decisions about their app development, marketing, and pricing strategies. For example, businesses may choose to focus on developing apps in the most popular categories, offer a mix of free and paid apps, optimize app size to improve user ratings, target specific content ratings, and price their apps competitively to attract more users.\n",
        "\n",
        "Overall, the insights gained from this analysis can help businesses make data-driven decisions that can lead to increased app performance and user engagement on the Google Play Store.\n",
        "\n"
      ],
      "metadata": {
        "id": "Fjb1IsQkh3yE"
      }
    },
    {
      "cell_type": "markdown",
      "source": [
        "### ***Hurrah! You have successfully completed your EDA Capstone Project !!!***"
      ],
      "metadata": {
        "id": "gIfDvo9L0UH2"
      }
    }
  ]
}